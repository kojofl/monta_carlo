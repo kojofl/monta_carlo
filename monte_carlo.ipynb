{
 "cells": [
  {
   "cell_type": "markdown",
   "metadata": {},
   "source": [
    "# Light-Tissue Interaction With Monte Carlo\n",
    "\n",
    "## Model\n",
    "\n",
    "The model used in this exercise is derived from \"Monte Carlo Simulation of Spectral Reflectance Using a Multilayered Skin Tissue Model\" by Takaaki Maeda, Naomi Rakawa, Motoji Takahashi, and Yoshihisa Aizu.\n",
    "The skin model described in the paper comprises seven layers: stratum corneum, living epidermis, papillary dermis, upper blood net dermis, reticular dermis, deep blood net dermis, and subcutaneous fat. For this exercise these layers are summarized into three distinct layers:\n",
    "1. Epidermis (Stratum corneum and living epidermis)\n",
    "2. Dermis (Papillary dermis, upper blood net dermis, reticualar dermis and deep blood net dermis)\n",
    "3. Subcutaneous Layer (Subcutaneous fat)\n",
    "\n",
    "The absorption coefficient (μ<sub>a</sub>), scattering coefficient (μ<sub>s</sub>), anisotropy factor (g) and refractive index (n) are calculated by using the weighted average of the summarized skin layers. For this calculation the lower bound of the thickness was used.\n",
    "\n",
    "Doing this simplification the seven layers properties go from:\n",
    "\n",
    "| No. | Name of Layer            | \\( \\mu_a \\) (mm⁻¹)  | \\( \\mu_s \\) (mm⁻¹)  | g   | n   | t (mm)            |\n",
    "|-----|--------------------------|---------------------|---------------------|-----|-----|-------------------|\n",
    "| 1   | Stratum corneum          | 0.00586             | 100                 | 0.86| 1.50| 0.02              |\n",
    "| 2   | Living epidermis         | 0.00482             | 45                  | 0.80| 1.34| 0.08              |\n",
    "| 3   | Papillary dermis         | 0.03341             | 30                  | 0.90| 1.40| 0.15              |\n",
    "| 4   | Upper blood net dermis   | 0.24130             | 35                  | 0.95| 1.39| 0.08              |\n",
    "| 5   | Reticular dermis         | 0.03341             | 25                  | 0.80| 1.40| 1.4               |\n",
    "| 6   | Deep blood net dermis    | 0.08078             | 30                  | 0.95| 1.38| 0.08              |\n",
    "| 7   | Subcutaneous fat         | 0.04127             | 5                   | 0.75| 1.44| 6.0               |\n",
    "\n",
    "to the three layers propertie: \n",
    "\n",
    "| No. | Name of Layer            | \\( \\mu_a \\) (mm⁻¹)  | \\( \\mu_s \\) (mm⁻¹)  | g   | n   | t (mm)            |\n",
    "|-----|--------------------------|---------------------|---------------------|-----|-----|-------------------|\n",
    "| 1   | Epidermis                | 0.00586             | 100                 | 0.86| 1.50| 0.1               |\n",
    "| 2   | Dermis                   | 0.00482             | 45                  | 0.80| 1.34| 1.71              |\n",
    "| 7   | Subcutaneous layer       | 0.04127             | 5                   | 0.75| 1.44| 6.0               |\n",
    "\n",
    "\n"
   ]
  },
  {
   "cell_type": "code",
   "execution_count": null,
   "metadata": {},
   "outputs": [],
   "source": []
  },
  {
   "cell_type": "markdown",
   "metadata": {},
   "source": []
  }
 ],
 "metadata": {
  "kernelspec": {
   "display_name": "Python 3",
   "language": "python",
   "name": "python3"
  },
  "language_info": {
   "name": "python",
   "version": "3.11.6"
  }
 },
 "nbformat": 4,
 "nbformat_minor": 2
}
